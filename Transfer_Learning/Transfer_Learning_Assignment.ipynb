{
  "nbformat": 4,
  "nbformat_minor": 0,
  "metadata": {
    "colab": {
      "provenance": [],
      "authorship_tag": "ABX9TyP4oZstfboklyQnjXt9aXmw",
      "include_colab_link": true
    },
    "kernelspec": {
      "name": "python3",
      "display_name": "Python 3"
    },
    "language_info": {
      "name": "python"
    }
  },
  "cells": [
    {
      "cell_type": "markdown",
      "metadata": {
        "id": "view-in-github",
        "colab_type": "text"
      },
      "source": [
        "<a href=\"https://colab.research.google.com/github/buterajacques1/alu-machine_learning/blob/main/Transfer_Learning/Transfer_Learning_Assignment.ipynb\" target=\"_parent\"><img src=\"https://colab.research.google.com/assets/colab-badge.svg\" alt=\"Open In Colab\"/></a>"
      ]
    },
    {
      "cell_type": "markdown",
      "source": [
        "**This project applies transfer learning on the Fashion-MNIST dataset using three pre-trained models: VGG16, ResNet50, and InceptionV3. The goal is to classify images of fashion items into one of ten categories.**\n",
        "\n",
        "\n",
        "***Step 1: Preparing the Dataset***"
      ],
      "metadata": {
        "id": "4Zhgqcd1LsV5"
      }
    },
    {
      "cell_type": "code",
      "execution_count": 4,
      "metadata": {
        "id": "tUnuqGIZLJMf"
      },
      "outputs": [],
      "source": [
        "from tensorflow.keras.applications import VGG16\n",
        "from tensorflow.keras.preprocessing.image import ImageDataGenerator\n",
        "from tensorflow.keras.layers import Dense, GlobalAveragePooling2D, Dropout, BatchNormalization\n",
        "from tensorflow.keras.models import Model\n",
        "from tensorflow.keras.utils import to_categorical\n",
        "import numpy as np\n",
        "\n",
        "# Load the Fashion-MNIST dataset\n",
        "from tensorflow.keras.datasets import fashion_mnist\n",
        "(x_train, y_train), (x_test, y_test) = fashion_mnist.load_data()\n",
        "\n",
        "# Normalize the images to [0, 1] range and convert to 3 channels\n",
        "x_train = np.stack([x_train]*3, axis=-1)\n",
        "x_test = np.stack([x_test]*3, axis=-1)\n",
        "\n",
        "# Resize the images to 32x32\n",
        "x_train = np.array([np.pad(image, ((2, 2), (2, 2), (0, 0)), mode='constant') for image in x_train])\n",
        "x_test = np.array([np.pad(image, ((2, 2), (2, 2), (0, 0)), mode='constant') for image in x_test])\n",
        "\n",
        "# Convert labels to categorical format\n",
        "y_train = to_categorical(y_train, 10)\n",
        "y_test = to_categorical(y_test, 10)\n",
        "\n",
        "# Create data generators\n",
        "train_datagen = ImageDataGenerator(rotation_range=10, width_shift_range=0.1, height_shift_range=0.1, horizontal_flip=True)\n",
        "train_generator = train_datagen.flow(x_train, y_train, batch_size=32)\n",
        "validation_generator = ImageDataGenerator().flow(x_test, y_test, batch_size=32)\n"
      ]
    },
    {
      "cell_type": "markdown",
      "source": [
        "**Step 2: Fine-Tuning the Pre-trained Models**\n",
        "\n",
        "**VGG16**"
      ],
      "metadata": {
        "id": "r8MHVnqZL0el"
      }
    },
    {
      "cell_type": "code",
      "source": [
        "# Load the VGG16 model\n",
        "vgg_base = VGG16(weights='imagenet', include_top=False, input_shape=(32, 32, 3))\n",
        "\n",
        "# Freeze the base layers\n",
        "for layer in vgg_base.layers:\n",
        "    layer.trainable = False\n",
        "\n",
        "# Add custom layers on top\n",
        "x = vgg_base.output\n",
        "x = GlobalAveragePooling2D()(x)\n",
        "x = BatchNormalization()(x)\n",
        "x = Dropout(0.5)(x)\n",
        "x = Dense(512, activation='relu')(x)\n",
        "x = BatchNormalization()(x)\n",
        "x = Dropout(0.5)(x)\n",
        "predictions = Dense(10, activation='softmax')(x)\n",
        "\n",
        "# Create the final model\n",
        "vgg_model = Model(inputs=vgg_base.input, outputs=predictions)\n",
        "\n",
        "# Compile the model\n",
        "vgg_model.compile(optimizer='adam', loss='categorical_crossentropy', metrics=['accuracy'])\n",
        "\n",
        "# Train the model\n",
        "vgg_model.fit(train_generator, epochs=5, validation_data=validation_generator)\n"
      ],
      "metadata": {
        "colab": {
          "base_uri": "https://localhost:8080/"
        },
        "id": "KjZZ3wUFMgfW",
        "outputId": "de3b23de-39e8-4e8d-9c85-9c4ced770aa0"
      },
      "execution_count": 5,
      "outputs": [
        {
          "output_type": "stream",
          "name": "stdout",
          "text": [
            "Downloading data from https://storage.googleapis.com/tensorflow/keras-applications/vgg16/vgg16_weights_tf_dim_ordering_tf_kernels_notop.h5\n",
            "58889256/58889256 [==============================] - 0s 0us/step\n",
            "Epoch 1/5\n",
            "1875/1875 [==============================] - 910s 484ms/step - loss: 0.9656 - accuracy: 0.6743 - val_loss: 0.6333 - val_accuracy: 0.7751\n",
            "Epoch 2/5\n",
            "1875/1875 [==============================] - 898s 479ms/step - loss: 0.7957 - accuracy: 0.7112 - val_loss: 0.5810 - val_accuracy: 0.7913\n",
            "Epoch 3/5\n",
            "1875/1875 [==============================] - 919s 490ms/step - loss: 0.7670 - accuracy: 0.7217 - val_loss: 0.5613 - val_accuracy: 0.7982\n",
            "Epoch 4/5\n",
            "1875/1875 [==============================] - 896s 478ms/step - loss: 0.7473 - accuracy: 0.7283 - val_loss: 0.5634 - val_accuracy: 0.7983\n",
            "Epoch 5/5\n",
            "1875/1875 [==============================] - 916s 488ms/step - loss: 0.7364 - accuracy: 0.7309 - val_loss: 0.5648 - val_accuracy: 0.7996\n"
          ]
        },
        {
          "output_type": "execute_result",
          "data": {
            "text/plain": [
              "<keras.src.callbacks.History at 0x7868baf4e9e0>"
            ]
          },
          "metadata": {},
          "execution_count": 5
        }
      ]
    }
  ]
}